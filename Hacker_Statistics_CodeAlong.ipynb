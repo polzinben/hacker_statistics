{
 "cells": [
  {
   "cell_type": "markdown",
   "metadata": {},
   "source": [
    "# Hacker Statistics #\n",
    "\n",
    "The concept of hacker statistics was introduced to me through a beginner level Data Camp course.  It really helped drive home the concepts of the central limit theorem and how we can utilize this with the power of computers to solve very complex problems with \"machine learning\"\n",
    "\n",
    "Here is a mimic of that lesson.\n",
    "\n",
    "We are visiting the tallest building in the world, the Burj Khalifa (829.8 meters / 162 floors) and decide to play a game.\n",
    "\n",
    "- Roll 2 dice and combine the score\n",
    "    - If the roll is divisible by 3, you go up 3 steps\n",
    "    - If the roll is even, you go up 2 steps\n",
    "    - Otherwise, you go down 2 steps (but you can't go below the ground floor)\n",
    "    - The stairs are slippery! there is a 1% chance you will fall all the way to the ground floor.\n",
    "- 100 rolls, where do you end up?\n",
    "\n",
    "I bet you won't get above floor 90.  Do you take that bet?"
   ]
  },
  {
   "cell_type": "code",
   "execution_count": 1,
   "metadata": {},
   "outputs": [],
   "source": [
    "# Import Trinity\n",
    "import pandas as pd\n",
    "import numpy as np\n",
    "import matplotlib.pyplot as plt\n",
    "import seaborn as sns\n",
    "\n",
    "import random"
   ]
  },
  {
   "cell_type": "markdown",
   "metadata": {},
   "source": [
    "We're going to utilize a few custom functions here for practice.  Let's start with a simple dice roll"
   ]
  },
  {
   "cell_type": "code",
   "execution_count": 2,
   "metadata": {},
   "outputs": [],
   "source": [
    "# Roll the dice\n",
    "# create a custom function to use later\n"
   ]
  },
  {
   "cell_type": "code",
   "execution_count": 2,
   "metadata": {},
   "outputs": [],
   "source": [
    "# Test it\n"
   ]
  },
  {
   "cell_type": "code",
   "execution_count": 4,
   "metadata": {},
   "outputs": [],
   "source": [
    "# Custom function to roll 2 dice at once\n"
   ]
  },
  {
   "cell_type": "code",
   "execution_count": 5,
   "metadata": {},
   "outputs": [],
   "source": [
    "# Let's roll 10,000 dice to see how it looks\n"
   ]
  },
  {
   "cell_type": "code",
   "execution_count": 1,
   "metadata": {},
   "outputs": [],
   "source": [
    "# Just plot the count of each number\n"
   ]
  },
  {
   "cell_type": "markdown",
   "metadata": {},
   "source": [
    "As is expected, it looks like a fair dice with an equal chance for each number.  But let's add a little complexity to the game and roll 2 standard 6-sided die and add the result."
   ]
  },
  {
   "cell_type": "code",
   "execution_count": 3,
   "metadata": {},
   "outputs": [],
   "source": [
    "# Should have a normal distribution around 7\n",
    "\n",
    "\n",
    "# Roll the dice 10,000 times\n"
   ]
  },
  {
   "cell_type": "code",
   "execution_count": 8,
   "metadata": {},
   "outputs": [
    {
     "data": {
      "text/plain": [
       "<BarContainer object of 11 artists>"
      ]
     },
     "execution_count": 8,
     "metadata": {},
     "output_type": "execute_result"
    },
    {
     "data": {
      "image/png": "[encoded data removed]",
      "text/plain": [
       "<Figure size 432x288 with 1 Axes>"
      ]
     },
     "metadata": {
      "needs_background": "light"
     },
     "output_type": "display_data"
    }
   ],
   "source": [
    "# Plot the result to see the distribution of rolls\n"
   ]
  },
  {
   "cell_type": "markdown",
   "metadata": {},
   "source": [
    "Great.  A normal distribution with a max of 12 and min of 2.  We can now code the logic of the game to check the result of the dice roll."
   ]
  },
  {
   "cell_type": "code",
   "execution_count": 9,
   "metadata": {},
   "outputs": [],
   "source": [
    "# let's now code the very simple logic (could always add more rules later if desired)\n"
   ]
  },
  {
   "cell_type": "code",
   "execution_count": 4,
   "metadata": {},
   "outputs": [],
   "source": [
    "# Test it\n"
   ]
  },
  {
   "cell_type": "code",
   "execution_count": 5,
   "metadata": {},
   "outputs": [],
   "source": [
    "# Create a function for the random walk we will send our computer on\n",
    "\n",
    "    # set up the empty list for the random walk starting at 0\n",
    "\n",
    "    \n",
    "    # Play the game, rolling the dice repeatedly and walking up/down the stairs\n",
    "\n",
    "        # Set step: last element in random_walk\n",
    "\n",
    "        \n",
    "        # Check the result of the dice and take a step\n",
    "        # Can't drop below floor 0 so max is used\n",
    "\n",
    "            \n",
    "        # Slippery stairs, 0.1% chance to fall to the ground\n",
    "        # rand() will generate a float between 0.0 and 1.0 \n",
    "\n",
    "\n",
    "        # add it to the walk\n",
    "\n",
    "    # And return the walk\n"
   ]
  },
  {
   "cell_type": "code",
   "execution_count": 6,
   "metadata": {},
   "outputs": [],
   "source": [
    "# Check the result\n"
   ]
  },
  {
   "cell_type": "code",
   "execution_count": 7,
   "metadata": {},
   "outputs": [],
   "source": [
    "# Visualize the random walk\n"
   ]
  },
  {
   "cell_type": "markdown",
   "metadata": {},
   "source": [
    "Very cool!  As we can see, it truly is a random walk up/down the stairs."
   ]
  },
  {
   "cell_type": "code",
   "execution_count": 8,
   "metadata": {},
   "outputs": [],
   "source": [
    "# Now let's do it a bunch of times and see how it looks\n",
    "\n",
    "    # List to capture the results\n",
    "\n",
    "    \n",
    "    # go for the walks\n",
    "\n",
    "    \n",
    "    # List is horizontal so it must be transposed and converted to np array\n",
    "\n",
    "    # Grab the end point of each walk\n",
    "\n",
    "    # return the walks and ends\n"
   ]
  },
  {
   "cell_type": "markdown",
   "metadata": {},
   "source": [
    "We are ready to run the program and see the results!"
   ]
  },
  {
   "cell_type": "code",
   "execution_count": 15,
   "metadata": {},
   "outputs": [],
   "source": [
    "# Let's run it and store the results for plotting\n"
   ]
  },
  {
   "cell_type": "code",
   "execution_count": 9,
   "metadata": {},
   "outputs": [],
   "source": [
    "# Look at all those walks together, it's beautiful.\n"
   ]
  },
  {
   "cell_type": "code",
   "execution_count": 10,
   "metadata": {},
   "outputs": [],
   "source": [
    "# Plot the distribution of the ends\n"
   ]
  },
  {
   "cell_type": "markdown",
   "metadata": {},
   "source": [
    "Wow...that's a pretty a normal distribution :) "
   ]
  },
  {
   "cell_type": "markdown",
   "metadata": {},
   "source": [
    "Let's say someone had made a bet that you would not make it above step 90, would you take that bet?"
   ]
  },
  {
   "cell_type": "code",
   "execution_count": 11,
   "metadata": {},
   "outputs": [],
   "source": [
    "# We can filter for ends above 90 and find the percentage of walks that beat the bet\n"
   ]
  },
  {
   "cell_type": "markdown",
   "metadata": {},
   "source": [
    "I would definitely take that bet!"
   ]
  },
  {
   "cell_type": "markdown",
   "metadata": {},
   "source": [
    "This is an example of leveraging the computer to solve a very complex problem by \"hacking it\".  Although an actuary may be able to come up with an incredible mathematical solution, we were able to code the rules of the game into a computer and run it 1,000 times to converge on the most likely solution, all in about 30 minutes!"
   ]
  },
  {
   "cell_type": "code",
   "execution_count": null,
   "metadata": {},
   "outputs": [],
   "source": []
  }
 ],
 "metadata": {
  "kernelspec": {
   "display_name": "machinelearning",
   "language": "python",
   "name": "machinelearning"
  },
  "language_info": {
   "codemirror_mode": {
    "name": "ipython",
    "version": 3
   },
   "file_extension": ".py",
   "mimetype": "text/x-python",
   "name": "python",
   "nbconvert_exporter": "python",
   "pygments_lexer": "ipython3",
   "version": "3.7.4"
  }
 },
 "nbformat": 4,
 "nbformat_minor": 4
}
